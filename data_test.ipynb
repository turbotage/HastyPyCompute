{
 "cells": [
  {
   "cell_type": "code",
   "execution_count": null,
   "metadata": {},
   "outputs": [],
   "source": [
    "import svt\n",
    "\n",
    "import math\n",
    "import time\n",
    "import numpy as np\n",
    "\n",
    "import util\n",
    "import gc\n",
    "import load_data\n",
    "import asyncio\n",
    "import concurrent\n",
    "from functools import partial\n",
    "import importlib\n",
    "\n",
    "import load_data\n",
    "import coil_est\n",
    "import cupy as cp\n",
    "\n",
    "import solvers\n",
    "import grad\n",
    "\n",
    "import prox"
   ]
  },
  {
   "cell_type": "code",
   "execution_count": null,
   "metadata": {},
   "outputs": [],
   "source": [
    "imsize = (160,160,160)\n",
    "\n",
    "start = time.time()\n",
    "dataset = load_data.load_processed_dataset('/media/buntess/OtherSwifty/Data/COBRA191/dataset.h5')\n",
    "end = time.time()\n",
    "print(f\"Load Time={end - start} s\")\n",
    "\n",
    "start = time.time()\n",
    "#dataset = await load_data.gate_time(dataset)\n",
    "end = time.time()\n",
    "print(f\"Gate Time={end - start} s\")\n"
   ]
  },
  {
   "cell_type": "code",
   "execution_count": null,
   "metadata": {},
   "outputs": [],
   "source": [
    "importlib.reload(load_data)\n",
    "\n",
    "await load_data.gate_ecg(dataset, 20)"
   ]
  },
  {
   "cell_type": "code",
   "execution_count": null,
   "metadata": {},
   "outputs": [],
   "source": [
    "\n",
    "print(len((dataset['coords'])))\n",
    "await coil_est.walsh(dataset['coords'], dataset['kdatas'], dataset['weights'], imsize)\n",
    "print('Hello')"
   ]
  }
 ],
 "metadata": {
  "kernelspec": {
   "display_name": "recon_two",
   "language": "python",
   "name": "python3"
  },
  "language_info": {
   "codemirror_mode": {
    "name": "ipython",
    "version": 3
   },
   "file_extension": ".py",
   "mimetype": "text/x-python",
   "name": "python",
   "nbconvert_exporter": "python",
   "pygments_lexer": "ipython3",
   "version": "3.1.0"
  }
 },
 "nbformat": 4,
 "nbformat_minor": 2
}
