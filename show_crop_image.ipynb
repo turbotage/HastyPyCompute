{
 "cells": [
  {
   "cell_type": "code",
   "execution_count": 3,
   "metadata": {},
   "outputs": [],
   "source": [
    "import orthoslicer as ort\n",
    "from scipy.ndimage import gaussian_filter\n",
    "import matplotlib.pyplot as plt\n",
    "import numpy as np\n",
    "import os\n",
    "import h5py\n",
    "import image_creation as ic\n",
    "\n",
    "def crop_image(dirpath, imagefile, create_crop_image=False, load_crop_image=False, just_plot=False, also_plot=False):\n",
    "\tmap_joiner = lambda path: os.path.join(dirpath, path)\n",
    "\n",
    "\tif create_crop_image and load_crop_image:\n",
    "\t\traise RuntimeError('Can not both load and create crop images')\n",
    "\n",
    "\tif create_crop_image:\n",
    "\t\tprint('Loading images')\n",
    "\t\twith h5py.File(map_joiner(imagefile), \"r\") as f:\n",
    "\t\t\timg = f['corrected_img'][()]\n",
    "\t\t\tcd = f['cd'][()]\n",
    "\t\t\tsmaps = f['smaps'][()]\n",
    "\t\t\t\n",
    "\t\tnlen = 72\n",
    "\t\tnx = 70\n",
    "\t\tny = 70\n",
    "\t\tnz = 130 #45\n",
    "\n",
    "\t\t#nx = 60\n",
    "\t\t#ny = 60\n",
    "\t\t#nz = 70\n",
    "\n",
    "\t\tcrop_box = [(nx,nx+nlen),(ny,ny+nlen),(nz,nz+nlen)]\n",
    "\t\tprint('Cropping')\n",
    "\t\tnew_img = ic.crop_5d_3d(img, crop_box)\n",
    "\t\tnew_cd = ic.crop_4d_3d(cd, crop_box).astype(np.float32)\n",
    "\t\tnew_smaps = ic.crop_4d_3d(smaps, crop_box)\n",
    "\n",
    "\t\tnew_cd = gaussian_filter(new_cd, sigma=0.8)\n",
    "\n",
    "\t\tvessel_mask = new_cd > np.quantile(new_cd, 0.995)\n",
    "\t\tvessel_mask = np.all(vessel_mask, axis=0)\n",
    "\n",
    "\t\tif just_plot or also_plot:\n",
    "\t\t\tort.image_nd(new_img)\n",
    "\t\t\tort.image_nd(new_cd)\n",
    "\t\t\t#ort.image_nd(new_cd + vessel_mask[None,...]*50.0)\n",
    "\t\t\tort.image_nd(vessel_mask.astype(np.float32), max_clim=True)\n",
    "\n",
    "\t\t\tif just_plot:\n",
    "\t\t\t\treturn (None, None)\n",
    "\n",
    "\n",
    "\n",
    "\treturn img, smaps"
   ]
  }
 ],
 "metadata": {
  "kernelspec": {
   "display_name": "recon_two",
   "language": "python",
   "name": "python3"
  },
  "language_info": {
   "codemirror_mode": {
    "name": "ipython",
    "version": 3
   },
   "file_extension": ".py",
   "mimetype": "text/x-python",
   "name": "python",
   "nbconvert_exporter": "python",
   "pygments_lexer": "ipython3",
   "version": "3.1.0"
  }
 },
 "nbformat": 4,
 "nbformat_minor": 2
}
